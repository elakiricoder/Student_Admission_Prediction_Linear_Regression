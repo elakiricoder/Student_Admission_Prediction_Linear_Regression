{
 "cells": [
  {
   "cell_type": "markdown",
   "metadata": {},
   "source": [
    "This dataset is obtained from [Kaggle](https://www.kaggle.com/mohansacharya/graduate-admissions?select=Admission_Predict_Ver1.1.csv)"
   ]
  },
  {
   "cell_type": "code",
   "execution_count": 1,
   "metadata": {},
   "outputs": [],
   "source": [
    "import pandas as pd\n",
    "import numpy as np\n",
    "import matplotlib.pyplot as plt\n",
    "import seaborn as sns"
   ]
  },
  {
   "cell_type": "code",
   "execution_count": 2,
   "metadata": {},
   "outputs": [],
   "source": [
    "df = pd.read_csv('Admission_Predict_Ver1.1.csv')"
   ]
  },
  {
   "cell_type": "code",
   "execution_count": 9,
   "metadata": {},
   "outputs": [],
   "source": [
    "df.drop('Serial No.',axis=1, inplace=True)"
   ]
  },
  {
   "cell_type": "code",
   "execution_count": 21,
   "metadata": {},
   "outputs": [
    {
     "data": {
      "text/html": [
       "<div>\n",
       "<style scoped>\n",
       "    .dataframe tbody tr th:only-of-type {\n",
       "        vertical-align: middle;\n",
       "    }\n",
       "\n",
       "    .dataframe tbody tr th {\n",
       "        vertical-align: top;\n",
       "    }\n",
       "\n",
       "    .dataframe thead th {\n",
       "        text-align: right;\n",
       "    }\n",
       "</style>\n",
       "<table border=\"1\" class=\"dataframe\">\n",
       "  <thead>\n",
       "    <tr style=\"text-align: right;\">\n",
       "      <th></th>\n",
       "      <th>GRE Score</th>\n",
       "      <th>TOEFL Score</th>\n",
       "      <th>University Rating</th>\n",
       "      <th>SOP</th>\n",
       "      <th>LOR</th>\n",
       "      <th>CGPA</th>\n",
       "      <th>Research</th>\n",
       "      <th>Chance of Admit</th>\n",
       "    </tr>\n",
       "  </thead>\n",
       "  <tbody>\n",
       "    <tr>\n",
       "      <th>0</th>\n",
       "      <td>337</td>\n",
       "      <td>118</td>\n",
       "      <td>4</td>\n",
       "      <td>4.5</td>\n",
       "      <td>4.5</td>\n",
       "      <td>9.65</td>\n",
       "      <td>1</td>\n",
       "      <td>0.92</td>\n",
       "    </tr>\n",
       "    <tr>\n",
       "      <th>1</th>\n",
       "      <td>324</td>\n",
       "      <td>107</td>\n",
       "      <td>4</td>\n",
       "      <td>4.0</td>\n",
       "      <td>4.5</td>\n",
       "      <td>8.87</td>\n",
       "      <td>1</td>\n",
       "      <td>0.76</td>\n",
       "    </tr>\n",
       "    <tr>\n",
       "      <th>2</th>\n",
       "      <td>316</td>\n",
       "      <td>104</td>\n",
       "      <td>3</td>\n",
       "      <td>3.0</td>\n",
       "      <td>3.5</td>\n",
       "      <td>8.00</td>\n",
       "      <td>1</td>\n",
       "      <td>0.72</td>\n",
       "    </tr>\n",
       "    <tr>\n",
       "      <th>3</th>\n",
       "      <td>322</td>\n",
       "      <td>110</td>\n",
       "      <td>3</td>\n",
       "      <td>3.5</td>\n",
       "      <td>2.5</td>\n",
       "      <td>8.67</td>\n",
       "      <td>1</td>\n",
       "      <td>0.80</td>\n",
       "    </tr>\n",
       "    <tr>\n",
       "      <th>4</th>\n",
       "      <td>314</td>\n",
       "      <td>103</td>\n",
       "      <td>2</td>\n",
       "      <td>2.0</td>\n",
       "      <td>3.0</td>\n",
       "      <td>8.21</td>\n",
       "      <td>0</td>\n",
       "      <td>0.65</td>\n",
       "    </tr>\n",
       "  </tbody>\n",
       "</table>\n",
       "</div>"
      ],
      "text/plain": [
       "   GRE Score  TOEFL Score  University Rating  SOP  LOR   CGPA  Research  \\\n",
       "0        337          118                  4  4.5   4.5  9.65         1   \n",
       "1        324          107                  4  4.0   4.5  8.87         1   \n",
       "2        316          104                  3  3.0   3.5  8.00         1   \n",
       "3        322          110                  3  3.5   2.5  8.67         1   \n",
       "4        314          103                  2  2.0   3.0  8.21         0   \n",
       "\n",
       "   Chance of Admit   \n",
       "0              0.92  \n",
       "1              0.76  \n",
       "2              0.72  \n",
       "3              0.80  \n",
       "4              0.65  "
      ]
     },
     "execution_count": 21,
     "metadata": {},
     "output_type": "execute_result"
    }
   ],
   "source": [
    "df.head()"
   ]
  },
  {
   "cell_type": "code",
   "execution_count": 14,
   "metadata": {},
   "outputs": [
    {
     "name": "stdout",
     "output_type": "stream",
     "text": [
      "<class 'pandas.core.frame.DataFrame'>\n",
      "RangeIndex: 500 entries, 0 to 499\n",
      "Data columns (total 8 columns):\n",
      " #   Column             Non-Null Count  Dtype  \n",
      "---  ------             --------------  -----  \n",
      " 0   GRE Score          500 non-null    int64  \n",
      " 1   TOEFL Score        500 non-null    int64  \n",
      " 2   University Rating  500 non-null    int64  \n",
      " 3   SOP                500 non-null    float64\n",
      " 4   LOR                500 non-null    float64\n",
      " 5   CGPA               500 non-null    float64\n",
      " 6   Research           500 non-null    int64  \n",
      " 7   Chance of Admit    500 non-null    float64\n",
      "dtypes: float64(4), int64(4)\n",
      "memory usage: 31.4 KB\n"
     ]
    }
   ],
   "source": [
    "df.info()"
   ]
  },
  {
   "cell_type": "code",
   "execution_count": 11,
   "metadata": {},
   "outputs": [
    {
     "data": {
      "text/plain": [
       "<AxesSubplot:>"
      ]
     },
     "execution_count": 11,
     "metadata": {},
     "output_type": "execute_result"
    },
    {
     "data": {
      "image/png": "[encoded data removed]",
      "text/plain": [
       "<Figure size 864x576 with 2 Axes>"
      ]
     },
     "metadata": {
      "needs_background": "light"
     },
     "output_type": "display_data"
    }
   ],
   "source": [
    "plt.figure(figsize=(12,8))\n",
    "sns.heatmap(df.corr(), annot=True)"
   ]
  },
  {
   "cell_type": "code",
   "execution_count": 27,
   "metadata": {},
   "outputs": [],
   "source": [
    "df['Chance of Admit'] = df['Chance of Admit ']\n",
    "df.drop('Chance of Admit ', axis=1, inplace=True)"
   ]
  },
  {
   "cell_type": "code",
   "execution_count": 29,
   "metadata": {},
   "outputs": [
    {
     "data": {
      "text/html": [
       "<div>\n",
       "<style scoped>\n",
       "    .dataframe tbody tr th:only-of-type {\n",
       "        vertical-align: middle;\n",
       "    }\n",
       "\n",
       "    .dataframe tbody tr th {\n",
       "        vertical-align: top;\n",
       "    }\n",
       "\n",
       "    .dataframe thead th {\n",
       "        text-align: right;\n",
       "    }\n",
       "</style>\n",
       "<table border=\"1\" class=\"dataframe\">\n",
       "  <thead>\n",
       "    <tr style=\"text-align: right;\">\n",
       "      <th></th>\n",
       "      <th>GRE Score</th>\n",
       "      <th>TOEFL Score</th>\n",
       "      <th>University Rating</th>\n",
       "      <th>SOP</th>\n",
       "      <th>LOR</th>\n",
       "      <th>CGPA</th>\n",
       "      <th>Research</th>\n",
       "      <th>Chance of Admit</th>\n",
       "    </tr>\n",
       "  </thead>\n",
       "  <tbody>\n",
       "    <tr>\n",
       "      <th>0</th>\n",
       "      <td>337</td>\n",
       "      <td>118</td>\n",
       "      <td>4</td>\n",
       "      <td>4.5</td>\n",
       "      <td>4.5</td>\n",
       "      <td>9.65</td>\n",
       "      <td>1</td>\n",
       "      <td>0.92</td>\n",
       "    </tr>\n",
       "    <tr>\n",
       "      <th>1</th>\n",
       "      <td>324</td>\n",
       "      <td>107</td>\n",
       "      <td>4</td>\n",
       "      <td>4.0</td>\n",
       "      <td>4.5</td>\n",
       "      <td>8.87</td>\n",
       "      <td>1</td>\n",
       "      <td>0.76</td>\n",
       "    </tr>\n",
       "    <tr>\n",
       "      <th>2</th>\n",
       "      <td>316</td>\n",
       "      <td>104</td>\n",
       "      <td>3</td>\n",
       "      <td>3.0</td>\n",
       "      <td>3.5</td>\n",
       "      <td>8.00</td>\n",
       "      <td>1</td>\n",
       "      <td>0.72</td>\n",
       "    </tr>\n",
       "    <tr>\n",
       "      <th>3</th>\n",
       "      <td>322</td>\n",
       "      <td>110</td>\n",
       "      <td>3</td>\n",
       "      <td>3.5</td>\n",
       "      <td>2.5</td>\n",
       "      <td>8.67</td>\n",
       "      <td>1</td>\n",
       "      <td>0.80</td>\n",
       "    </tr>\n",
       "    <tr>\n",
       "      <th>4</th>\n",
       "      <td>314</td>\n",
       "      <td>103</td>\n",
       "      <td>2</td>\n",
       "      <td>2.0</td>\n",
       "      <td>3.0</td>\n",
       "      <td>8.21</td>\n",
       "      <td>0</td>\n",
       "      <td>0.65</td>\n",
       "    </tr>\n",
       "  </tbody>\n",
       "</table>\n",
       "</div>"
      ],
      "text/plain": [
       "   GRE Score  TOEFL Score  University Rating  SOP  LOR   CGPA  Research  \\\n",
       "0        337          118                  4  4.5   4.5  9.65         1   \n",
       "1        324          107                  4  4.0   4.5  8.87         1   \n",
       "2        316          104                  3  3.0   3.5  8.00         1   \n",
       "3        322          110                  3  3.5   2.5  8.67         1   \n",
       "4        314          103                  2  2.0   3.0  8.21         0   \n",
       "\n",
       "   Chance of Admit  \n",
       "0             0.92  \n",
       "1             0.76  \n",
       "2             0.72  \n",
       "3             0.80  \n",
       "4             0.65  "
      ]
     },
     "execution_count": 29,
     "metadata": {},
     "output_type": "execute_result"
    }
   ],
   "source": [
    "df.head()"
   ]
  },
  {
   "cell_type": "code",
   "execution_count": 30,
   "metadata": {},
   "outputs": [],
   "source": [
    "X = df.drop('Chance of Admit', axis=1)\n",
    "y = df['Chance of Admit']"
   ]
  },
  {
   "cell_type": "code",
   "execution_count": 31,
   "metadata": {},
   "outputs": [],
   "source": [
    "from sklearn.model_selection import train_test_split"
   ]
  },
  {
   "cell_type": "code",
   "execution_count": 32,
   "metadata": {},
   "outputs": [],
   "source": [
    "X_train, X_test, y_train, y_test = train_test_split(X, y, test_size=0.2, random_state=101)"
   ]
  },
  {
   "cell_type": "code",
   "execution_count": 33,
   "metadata": {},
   "outputs": [
    {
     "data": {
      "text/plain": [
       "(400, 7)"
      ]
     },
     "execution_count": 33,
     "metadata": {},
     "output_type": "execute_result"
    }
   ],
   "source": [
    "X_train.shape"
   ]
  },
  {
   "cell_type": "code",
   "execution_count": 46,
   "metadata": {},
   "outputs": [],
   "source": [
    "# from sklearn.preprocessing import MinMaxScaler"
   ]
  },
  {
   "cell_type": "code",
   "execution_count": 47,
   "metadata": {},
   "outputs": [],
   "source": [
    "# scaler = MinMaxScaler()"
   ]
  },
  {
   "cell_type": "code",
   "execution_count": 34,
   "metadata": {},
   "outputs": [
    {
     "data": {
      "text/plain": [
       "Index(['GRE Score', 'TOEFL Score', 'University Rating', 'SOP', 'LOR ', 'CGPA',\n",
       "       'Research', 'Chance of Admit'],\n",
       "      dtype='object')"
      ]
     },
     "execution_count": 34,
     "metadata": {},
     "output_type": "execute_result"
    }
   ],
   "source": [
    "df.columns"
   ]
  },
  {
   "cell_type": "code",
   "execution_count": 68,
   "metadata": {},
   "outputs": [],
   "source": [
    "# import warnings\n",
    "# warnings.filterwarnings('ignore')\n",
    "\n",
    "# columns_to_scale = ['GRE Score', 'TOEFL Score', 'University Rating', 'SOP', 'LOR ', 'CGPA',\n",
    "#        'Research']\n",
    "# X_train[columns_to_scale] = scaler.fit_transform(X_train[columns_to_scale])\n",
    "# X_test[columns_to_scale] = scaler.transform(X_test[columns_to_scale])"
   ]
  },
  {
   "cell_type": "code",
   "execution_count": 35,
   "metadata": {},
   "outputs": [],
   "source": [
    "from sklearn.linear_model import LinearRegression"
   ]
  },
  {
   "cell_type": "code",
   "execution_count": 36,
   "metadata": {},
   "outputs": [
    {
     "data": {
      "text/plain": [
       "LinearRegression()"
      ]
     },
     "execution_count": 36,
     "metadata": {},
     "output_type": "execute_result"
    }
   ],
   "source": [
    "model = LinearRegression()\n",
    "model.fit(X_train,y_train)"
   ]
  },
  {
   "cell_type": "code",
   "execution_count": 37,
   "metadata": {},
   "outputs": [],
   "source": [
    "predictions = model.predict(X_test)"
   ]
  },
  {
   "cell_type": "code",
   "execution_count": 38,
   "metadata": {},
   "outputs": [
    {
     "name": "stdout",
     "output_type": "stream",
     "text": [
      "MAE: 0.04396863063294708\n",
      "MSE: 0.0037657930590941618\n",
      "RMSE: 0.061366057874807\n"
     ]
    }
   ],
   "source": [
    "from sklearn import metrics\n",
    "\n",
    "print('MAE:', metrics.mean_absolute_error(y_test, predictions))\n",
    "print('MSE:', metrics.mean_squared_error(y_test, predictions))\n",
    "print('RMSE:', np.sqrt(metrics.mean_squared_error(y_test, predictions)))"
   ]
  },
  {
   "cell_type": "code",
   "execution_count": 40,
   "metadata": {},
   "outputs": [
    {
     "name": "stdout",
     "output_type": "stream",
     "text": [
      "Actual is: 0.63\n",
      "Prediction is: 0.74\n"
     ]
    }
   ],
   "source": [
    "index_position = 0\n",
    "np_y_test = np.array(y_test)\n",
    "print('Actual is: ' + str(np_y_test[index_position]/1))\n",
    "print('Prediction is: ' + str(round(predictions[index_position],2)))"
   ]
  },
  {
   "cell_type": "code",
   "execution_count": 44,
   "metadata": {},
   "outputs": [
    {
     "name": "stdout",
     "output_type": "stream",
     "text": [
      "Actual is: 0.63 ---- Prediction is: 0.74\n",
      "Actual is: 0.93 ---- Prediction is: 0.91\n",
      "Actual is: 0.74 ---- Prediction is: 0.81\n",
      "Actual is: 0.65 ---- Prediction is: 0.63\n",
      "Actual is: 0.7 ---- Prediction is: 0.65\n",
      "Actual is: 0.74 ---- Prediction is: 0.7\n",
      "Actual is: 0.91 ---- Prediction is: 0.92\n",
      "Actual is: 0.57 ---- Prediction is: 0.52\n",
      "Actual is: 0.96 ---- Prediction is: 0.96\n",
      "Actual is: 0.72 ---- Prediction is: 0.74\n",
      "Actual is: 0.65 ---- Prediction is: 0.7\n",
      "Actual is: 0.67 ---- Prediction is: 0.62\n",
      "Actual is: 0.42 ---- Prediction is: 0.56\n",
      "Actual is: 0.73 ---- Prediction is: 0.64\n",
      "Actual is: 0.55 ---- Prediction is: 0.79\n",
      "Actual is: 0.48 ---- Prediction is: 0.58\n",
      "Actual is: 0.51 ---- Prediction is: 0.5\n",
      "Actual is: 0.85 ---- Prediction is: 0.86\n",
      "Actual is: 0.79 ---- Prediction is: 0.76\n",
      "Actual is: 0.55 ---- Prediction is: 0.58\n",
      "Actual is: 0.78 ---- Prediction is: 0.85\n",
      "Actual is: 0.82 ---- Prediction is: 0.84\n",
      "Actual is: 0.79 ---- Prediction is: 0.76\n",
      "Actual is: 0.76 ---- Prediction is: 0.81\n",
      "Actual is: 0.65 ---- Prediction is: 0.61\n",
      "Actual is: 0.82 ---- Prediction is: 0.84\n",
      "Actual is: 0.37 ---- Prediction is: 0.47\n",
      "Actual is: 0.75 ---- Prediction is: 0.72\n",
      "Actual is: 0.52 ---- Prediction is: 0.75\n",
      "Actual is: 0.83 ---- Prediction is: 0.85\n",
      "Actual is: 0.62 ---- Prediction is: 0.65\n",
      "Actual is: 0.87 ---- Prediction is: 0.83\n",
      "Actual is: 0.91 ---- Prediction is: 0.88\n",
      "Actual is: 0.69 ---- Prediction is: 0.67\n",
      "Actual is: 0.73 ---- Prediction is: 0.63\n",
      "Actual is: 0.8 ---- Prediction is: 0.82\n",
      "Actual is: 0.74 ---- Prediction is: 0.71\n",
      "Actual is: 0.71 ---- Prediction is: 0.62\n",
      "Actual is: 0.78 ---- Prediction is: 0.78\n",
      "Actual is: 0.64 ---- Prediction is: 0.69\n",
      "Actual is: 0.9 ---- Prediction is: 0.87\n",
      "Actual is: 0.61 ---- Prediction is: 0.6\n",
      "Actual is: 0.91 ---- Prediction is: 0.87\n",
      "Actual is: 0.74 ---- Prediction is: 0.76\n",
      "Actual is: 0.84 ---- Prediction is: 0.84\n",
      "Actual is: 0.71 ---- Prediction is: 0.73\n",
      "Actual is: 0.71 ---- Prediction is: 0.74\n",
      "Actual is: 0.65 ---- Prediction is: 0.7\n",
      "Actual is: 0.82 ---- Prediction is: 0.78\n",
      "Actual is: 0.9 ---- Prediction is: 0.88\n",
      "Actual is: 0.57 ---- Prediction is: 0.57\n",
      "Actual is: 0.96 ---- Prediction is: 0.96\n",
      "Actual is: 0.61 ---- Prediction is: 0.56\n",
      "Actual is: 0.72 ---- Prediction is: 0.65\n",
      "Actual is: 0.72 ---- Prediction is: 0.62\n",
      "Actual is: 0.64 ---- Prediction is: 0.62\n",
      "Actual is: 0.9 ---- Prediction is: 0.9\n",
      "Actual is: 0.91 ---- Prediction is: 0.86\n",
      "Actual is: 0.88 ---- Prediction is: 0.86\n",
      "Actual is: 0.71 ---- Prediction is: 0.7\n",
      "Actual is: 0.93 ---- Prediction is: 0.91\n",
      "Actual is: 0.72 ---- Prediction is: 0.71\n",
      "Actual is: 0.65 ---- Prediction is: 0.62\n",
      "Actual is: 0.77 ---- Prediction is: 0.81\n",
      "Actual is: 0.73 ---- Prediction is: 0.63\n",
      "Actual is: 0.78 ---- Prediction is: 0.77\n",
      "Actual is: 0.77 ---- Prediction is: 0.73\n",
      "Actual is: 0.76 ---- Prediction is: 0.78\n",
      "Actual is: 0.59 ---- Prediction is: 0.69\n",
      "Actual is: 0.8 ---- Prediction is: 0.82\n",
      "Actual is: 0.84 ---- Prediction is: 0.82\n",
      "Actual is: 0.85 ---- Prediction is: 0.79\n",
      "Actual is: 0.93 ---- Prediction is: 0.95\n",
      "Actual is: 0.73 ---- Prediction is: 0.68\n",
      "Actual is: 0.7 ---- Prediction is: 0.75\n",
      "Actual is: 0.77 ---- Prediction is: 0.71\n",
      "Actual is: 0.82 ---- Prediction is: 0.81\n",
      "Actual is: 0.64 ---- Prediction is: 0.63\n",
      "Actual is: 0.91 ---- Prediction is: 0.91\n",
      "Actual is: 0.97 ---- Prediction is: 0.96\n",
      "Actual is: 0.79 ---- Prediction is: 0.7\n",
      "Actual is: 0.7 ---- Prediction is: 0.69\n",
      "Actual is: 0.87 ---- Prediction is: 0.86\n",
      "Actual is: 0.5 ---- Prediction is: 0.55\n",
      "Actual is: 0.66 ---- Prediction is: 0.66\n",
      "Actual is: 0.47 ---- Prediction is: 0.49\n",
      "Actual is: 0.72 ---- Prediction is: 0.63\n",
      "Actual is: 0.52 ---- Prediction is: 0.5\n",
      "Actual is: 0.84 ---- Prediction is: 0.73\n",
      "Actual is: 0.62 ---- Prediction is: 0.61\n",
      "Actual is: 0.64 ---- Prediction is: 0.56\n",
      "Actual is: 0.81 ---- Prediction is: 0.66\n",
      "Actual is: 0.61 ---- Prediction is: 0.65\n",
      "Actual is: 0.77 ---- Prediction is: 0.76\n",
      "Actual is: 0.95 ---- Prediction is: 0.89\n",
      "Actual is: 0.67 ---- Prediction is: 0.61\n",
      "Actual is: 0.66 ---- Prediction is: 0.66\n",
      "Actual is: 0.78 ---- Prediction is: 0.86\n",
      "Actual is: 0.71 ---- Prediction is: 0.74\n",
      "Actual is: 0.95 ---- Prediction is: 0.97\n"
     ]
    }
   ],
   "source": [
    "for n in range(len(y_test)):\n",
    "    print('Actual is: ' + str(np_y_test[n]/1) +' ---- ' + 'Prediction is: ' + str(round(predictions[n],2)))"
   ]
  }
 ],
 "metadata": {
  "kernelspec": {
   "display_name": "Python 3",
   "language": "python",
   "name": "python3"
  },
  "language_info": {
   "codemirror_mode": {
    "name": "ipython",
    "version": 3
   },
   "file_extension": ".py",
   "mimetype": "text/x-python",
   "name": "python",
   "nbconvert_exporter": "python",
   "pygments_lexer": "ipython3",
   "version": "3.8.5"
  }
 },
 "nbformat": 4,
 "nbformat_minor": 4
}
